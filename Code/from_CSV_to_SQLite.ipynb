{
 "cells": [
  {
   "cell_type": "markdown",
   "id": "260af7b4-4c73-43d0-9547-610d30d2dcd2",
   "metadata": {},
   "source": [
    "# Manipulation"
   ]
  },
  {
   "cell_type": "markdown",
   "id": "7b3e3c54-7bc8-46bd-ad3a-bc486bbf2d64",
   "metadata": {},
   "source": [
    "## CSV"
   ]
  },
  {
   "cell_type": "markdown",
   "id": "e7f09d58-4647-40ae-aec9-56494c2abe13",
   "metadata": {},
   "source": [
    "### Imports"
   ]
  },
  {
   "cell_type": "code",
   "execution_count": 1,
   "id": "725f0928-c912-4f6a-a321-84b5fbab77b9",
   "metadata": {},
   "outputs": [],
   "source": [
    "import csv"
   ]
  },
  {
   "cell_type": "markdown",
   "id": "5e7a448b-92e3-41eb-9437-af4b331e2348",
   "metadata": {},
   "source": [
    "### Functions"
   ]
  },
  {
   "cell_type": "markdown",
   "id": "5bd90e3c-9b4e-4b16-b592-3ab67a6d3e93",
   "metadata": {},
   "source": [
    "#### Read"
   ]
  },
  {
   "cell_type": "code",
   "execution_count": 2,
   "id": "b714606b-527e-4290-8fc6-b8d877455324",
   "metadata": {},
   "outputs": [],
   "source": [
    "def csv_read_file(path):\n",
    "    ''' Lê o arquivo csv e retorna seus dados em uma lista '''\n",
    "    data_file = []\n",
    "    with open(path, 'r', encoding='utf-8') as file:\n",
    "        read = csv.reader(file)\n",
    "        for row in read:\n",
    "            data_file.append(row)\n",
    "    return data_file\n"
   ]
  },
  {
   "cell_type": "markdown",
   "id": "14591fd7-0b65-495e-9dd3-142c43c6bda1",
   "metadata": {},
   "source": [
    "#### Write"
   ]
  },
  {
   "cell_type": "code",
   "execution_count": 3,
   "id": "9ed2b95b-87cd-486a-b385-d513f803ff99",
   "metadata": {},
   "outputs": [],
   "source": [
    "def csv_write_file(path, collection):\n",
    "    ''' Escreve os dados de uma coleção no arquivo CSV linha a linha '''\n",
    "    with open(path, 'w', encoding='utf-8', newline='') as file:\n",
    "        write = csv.writer(file)\n",
    "        for row in collection:\n",
    "            write.writerow(row)\n",
    "    return 'File written with success!'"
   ]
  },
  {
   "cell_type": "markdown",
   "id": "4f031848-9af2-4de1-97be-9e7d8ad9adfc",
   "metadata": {},
   "source": [
    "#### Create file CSV"
   ]
  },
  {
   "cell_type": "markdown",
   "id": "d84feb0c-60ce-4a96-a167-6ec942cccf32",
   "metadata": {},
   "source": [
    "- Para testar as funções, criei uma arquivo CSV com alguns nomes aleatórios que peguei no site https://rogertakemiya.com.br/gerador-de-nomes-de-pessoas/ \"Lista com alguns dos nomes utilizados no Estados Unidos\"."
   ]
  },
  {
   "cell_type": "code",
   "execution_count": 4,
   "id": "e569e1ce-8b59-4c78-be67-387b2cd02a76",
   "metadata": {},
   "outputs": [
    {
     "data": {
      "text/plain": [
       "'File written with success!'"
      ]
     },
     "execution_count": 4,
     "metadata": {},
     "output_type": "execute_result"
    }
   ],
   "source": [
    "import random\n",
    "\n",
    "delivery = ['2022-02-12','2022-02-16','2022-02-08','2022-02-22','2022-02-28']\n",
    "register = ['2022-02-02','2022-02-05','2022-01-23','2022-02-01','2022-01-28']\n",
    "type_order = ['design','paisagem','logo','personagem','caricatura']\n",
    "\n",
    "data = csv_read_file(\"../Data/test_copy.csv\")\n",
    "for row in data[1:]:\n",
    "    row[1] = random.choice(type_order)\n",
    "    row.append(random.choice(delivery))\n",
    "    row.append(random.choice(register))\n",
    "csv_write_file('../Data/final_test.csv', data)"
   ]
  },
  {
   "cell_type": "markdown",
   "id": "725142de-ef72-4fc3-98cf-983f60baf152",
   "metadata": {},
   "source": [
    "- Como tinha apenas os nomes, decidi criar uma lista com 5 possibilidades de datas de entrega, datas de registro, e tipos de pedidos de artisticos para poder popular o CSV com o que iria precisar."
   ]
  },
  {
   "cell_type": "markdown",
   "id": "b9b9cd00-3cf9-470c-b1d6-e6581361f1a4",
   "metadata": {},
   "source": [
    "## SQLite3"
   ]
  },
  {
   "cell_type": "markdown",
   "id": "57c0fb9e-c2e7-4c27-b72a-e7ad2993806e",
   "metadata": {},
   "source": [
    "### Imports"
   ]
  },
  {
   "cell_type": "code",
   "execution_count": 5,
   "id": "68842409-2a21-416f-ad85-046163063a91",
   "metadata": {},
   "outputs": [],
   "source": [
    "import sqlite3\n",
    "import os\n",
    "from datetime import datetime"
   ]
  },
  {
   "cell_type": "markdown",
   "id": "53b98c23-dbef-4fbd-afc6-9c2df5da8830",
   "metadata": {},
   "source": [
    "### Functions"
   ]
  },
  {
   "cell_type": "markdown",
   "id": "60937029-04d2-446e-a279-747837504c74",
   "metadata": {},
   "source": [
    "#### Dates"
   ]
  },
  {
   "cell_type": "code",
   "execution_count": 6,
   "id": "6d37c2d4-4cf1-4ad0-8a02-e711f5406004",
   "metadata": {},
   "outputs": [],
   "source": [
    "def date_now():\n",
    "    date_now = datetime.today().strftime('%Y-%m-%d')\n",
    "    return str(date_now)\n",
    "\n",
    "def date_to_display(date):\n",
    "    date = date.split('-')[::-1]\n",
    "    date = '/'.join(date)\n",
    "    return date\n",
    "\n",
    "def date_to_sqlite(date):\n",
    "    date = date.split('/')[::-1]\n",
    "    date = '-'.join(date)\n",
    "    return date\n",
    "    "
   ]
  },
  {
   "cell_type": "markdown",
   "id": "c05b6684-7635-4472-af85-48aadf625679",
   "metadata": {},
   "source": [
    "#### Create and connect Database"
   ]
  },
  {
   "cell_type": "code",
   "execution_count": 7,
   "id": "9c1dabf7-bb14-46f2-ba68-54344277a5a6",
   "metadata": {},
   "outputs": [],
   "source": [
    "connection = sqlite3.connect('../Data/DB_Orders.db')\n",
    "cursor = connection.cursor()\n",
    "\n",
    "def close_db():\n",
    "    cursor.close()\n",
    "    connection.close()"
   ]
  },
  {
   "cell_type": "markdown",
   "id": "1b379349-5c94-47cc-8a2c-cdf605870b8c",
   "metadata": {},
   "source": [
    "#### Create table"
   ]
  },
  {
   "cell_type": "code",
   "execution_count": 8,
   "id": "0c3b8fdf-d3e0-4c5b-a413-97250e5b739a",
   "metadata": {},
   "outputs": [],
   "source": [
    "sql_create = \"\"\"CREATE TABLE IF NOT EXISTS Orders \n",
    "(id INTEGER PRIMARY KEY AUTOINCREMENT, \n",
    "client TEXT, \n",
    "type_order TEXT, \n",
    "date_delivery TEXT, \n",
    "date_register TEXT NOT NULL)\"\"\"\n",
    "\n",
    "def fundb_create_table():\n",
    "    cursor.execute(sql_create)\n",
    "    connection.commit()"
   ]
  },
  {
   "cell_type": "markdown",
   "id": "97b0f8c8-58ac-45f8-abfa-940a8be99f41",
   "metadata": {},
   "source": [
    "#### Insert "
   ]
  },
  {
   "cell_type": "code",
   "execution_count": 9,
   "id": "dcb2048d-bd06-4a2e-beae-e3efadf0f10d",
   "metadata": {},
   "outputs": [],
   "source": [
    "sql_insert = \"\"\"INSERT INTO Orders (client, type_order, date_delivery, date_register) \n",
    "VALUES (?,?,?,?)\"\"\"\n",
    "\n",
    "def fundb_insert_collection(collection):\n",
    "    for row in collection:\n",
    "        cursor.execute(sql_insert, row)\n",
    "        connection.commit()\n",
    "    \n",
    "def fundb_insert_one(client, type_order, date_delivery):\n",
    "    date_register = date_to_sqlite(date_now())\n",
    "    cursor.execute(sql_insert, (client, type_order, date_delivery, date_register))\n",
    "    connection.commit()"
   ]
  },
  {
   "cell_type": "markdown",
   "id": "d9727cc4-3f4c-46b0-8d42-0e00f6247c6a",
   "metadata": {},
   "source": [
    "#### Recover"
   ]
  },
  {
   "cell_type": "code",
   "execution_count": 10,
   "id": "87ba5063-b1ce-4a8e-9803-055184533b4f",
   "metadata": {},
   "outputs": [],
   "source": [
    "sql_select = \"\"\"SELECT * FROM Orders\"\"\"\n",
    "\n",
    "def fundb_recover_all():\n",
    "    cursor.execute(sql_select)\n",
    "    return cursor.fetchall()\n",
    "\n",
    "def fundb_recover_specific(colum, specification):\n",
    "    sql_where = sql_select + f\" WHERE {colum} = '{specification}'\"\n",
    "    cursor.execute(sql_where)\n",
    "    record = cursor.fetchall()\n",
    "    return record    \n",
    "\n",
    "def fundb_find_id(name_client):\n",
    "    records = fundb_recover_specific('client', name_client)\n",
    "    list_ids = []\n",
    "    for rec in records:\n",
    "        list_ids.append(rec[0])\n",
    "    if len(list_ids) == 1:\n",
    "        return list_ids[0]\n",
    "    else:\n",
    "        return list_ids"
   ]
  },
  {
   "cell_type": "markdown",
   "id": "c6527214-24a5-4c2f-8ac5-65da4500e055",
   "metadata": {},
   "source": [
    "- Ao inves de fazer uma função para cada campo da coluna, fiz uma função que recebe a coluna que será usada como filtro e resgata todos os valores relacionados ao valor especificado."
   ]
  },
  {
   "cell_type": "markdown",
   "id": "6923c9fe-6c39-4241-bf6a-54e380433358",
   "metadata": {},
   "source": [
    "#### Update"
   ]
  },
  {
   "cell_type": "code",
   "execution_count": 11,
   "id": "91021970-c9cb-4fdb-aead-4be0be2dcad1",
   "metadata": {},
   "outputs": [],
   "source": [
    "sql_update = \"UPDATE Orders SET \"\n",
    "\n",
    "def fundb_update_by_id(order_id, column, new_data):\n",
    "    sql_specific = sql_update + f\"{column} = '{new_data}' WHERE id = {order_id}\"\n",
    "    cursor.execute(sql_specific)\n",
    "    connection.commit()\n",
    "    return f'Update OK!'"
   ]
  },
  {
   "cell_type": "markdown",
   "id": "160fa627-a0c4-4f63-b68d-4a0808bfb823",
   "metadata": {},
   "source": [
    "#### Delete"
   ]
  },
  {
   "cell_type": "code",
   "execution_count": 12,
   "id": "a2d554c9-ecb0-46b7-aab6-a51dc53afb41",
   "metadata": {},
   "outputs": [],
   "source": [
    "\n",
    "def fundb_delete_by_id(order_id):\n",
    "    sql_delete = f\"DELETE FROM Orders WHERE id = {order_id}\"\n",
    "    cursor.execute(sql_delete)\n",
    "    connection.commit()\n",
    "    return f'Record deleted'"
   ]
  },
  {
   "cell_type": "markdown",
   "id": "d5a56b0e-da66-4abf-8f84-f2c41a5b25ff",
   "metadata": {},
   "source": [
    "# Runing"
   ]
  },
  {
   "cell_type": "markdown",
   "id": "3e0ac51e-c5ab-4622-b30d-5d808fd3551a",
   "metadata": {},
   "source": [
    "## Useful"
   ]
  },
  {
   "cell_type": "code",
   "execution_count": 13,
   "id": "95d74ea1-b5fc-49db-9574-342d979c2ab0",
   "metadata": {},
   "outputs": [],
   "source": [
    "def split_rec(rec):\n",
    "    order_id = rec[0]\n",
    "    client = rec[1]\n",
    "    type_order = rec[2]\n",
    "    delivery = date_to_display(rec[3])\n",
    "    register = date_to_display(rec[4])\n",
    "    print_recover(order_id, type_order, client, delivery, register)\n",
    "\n",
    "def print_recover(order_id, type_order, client, delivery, register):\n",
    "    display = '\\n\\n=============================\\n'\\\n",
    "    f'ID: {order_id} \\n'\\\n",
    "    f'Cliente: {client}\\n'\\\n",
    "    f'Tipo do Pedido: {type_order}\\n'\\\n",
    "    f'Data de Entrega: {delivery}\\n'\\\n",
    "    f'Date de Registro: {register}\\n\\n'\n",
    "    print(display)\n"
   ]
  },
  {
   "cell_type": "markdown",
   "id": "bd01136d-30c5-43c4-9826-3434315bf611",
   "metadata": {},
   "source": [
    "### Displays"
   ]
  },
  {
   "cell_type": "code",
   "execution_count": 14,
   "id": "fce22844-9ca8-468f-b558-437acd548db3",
   "metadata": {},
   "outputs": [],
   "source": [
    "display_menu = \"\"\"\n",
    "=========== Menu ============\n",
    "\n",
    "0 - Sair\n",
    "1 - Mostrar pedidos\n",
    "2 - Inserir novo pedido\n",
    "3 - Atualizar um novo pedido\n",
    "4 - Apagar um pedido\n",
    "\n",
    "\"\"\"\n",
    "display_op1 = \"\"\"\n",
    "=========== Menu ============\n",
    "\n",
    "1 - Mostrar todos os pedidos\n",
    "2 - Pedido específico\n",
    "\n",
    "\"\"\"\n",
    "display_inserir = \"\"\"\n",
    "=========== Menu ============\n",
    "\n",
    "1 - Inserir: \n",
    "\"\"\"\n"
   ]
  },
  {
   "cell_type": "markdown",
   "id": "9e90e6dc-67a7-4176-8ead-58b210bc40a9",
   "metadata": {},
   "source": [
    "### Options"
   ]
  },
  {
   "cell_type": "code",
   "execution_count": 15,
   "id": "22bc3d49-5c0d-425a-9329-12e601256621",
   "metadata": {},
   "outputs": [],
   "source": [
    "def option_1():\n",
    "    print(display_op1)\n",
    "    option = int(input(\"Opção:  \"))\n",
    "    if option == 1:\n",
    "        for rec in fundb_recover_all():\n",
    "            split_rec(rec)\n",
    "    elif option == 2:\n",
    "        column = str(input(\"Buscar por: \"))\n",
    "        specific = str(input(\"Dado: \"))\n",
    "        for rec in fundb_recover_specific(column, specific):\n",
    "            split_rec(rec)\n",
    "\n",
    "def option_2():\n",
    "    print(display_inserir)\n",
    "    client = str(input(\"Cliente: \"))\n",
    "    type_order = str(input(\"Tipo do pedido: \"))\n",
    "    delivery = str(input(\"Data de entrega: \"))\n",
    "    register = date_now()\n",
    "    fundb_insert_one(client, type_order, delivery)\n",
    "\n",
    "def option_3():\n",
    "    print(display_inserir)\n",
    "    order_id = int(input(\"ID de quem quer atualizar: \"))\n",
    "    column = str(input(\"Campo a ser mudado: \"))\n",
    "    new_date = str(input(\"Atualização: \"))\n",
    "    if column == 'date_delivery' or columns == 'date_register':\n",
    "        date_to_sqlite(new_date)\n",
    "    fundb_update_by_id(order_id, column, new_date)\n",
    "\n",
    "def option_4():\n",
    "    print(display_inserir)\n",
    "    order_id = int(input(\"ID de quem quer atualizar: \"))\n",
    "    ok = fundb_delete_by_id(order_id)\n",
    "    return ok\n",
    "\n",
    "def print_display_and_option(display):\n",
    "    while True:\n",
    "        print(display)\n",
    "        option = int(input(\"Opção:  \"))\n",
    "        if option == 0:\n",
    "            break\n",
    "        elif option == 1:\n",
    "            option_1()\n",
    "            continue\n",
    "        elif option == 2:\n",
    "            option_2()\n",
    "            continue\n",
    "        elif option == 3:\n",
    "            option_3()\n",
    "            continue\n",
    "        elif option == 4:\n",
    "            option_4()\n",
    "            continue\n",
    "        else:\n",
    "            print(\"Opção invalida\")\n",
    "            continue"
   ]
  },
  {
   "cell_type": "markdown",
   "id": "219de105-83db-4fb1-bffd-cea5797cb871",
   "metadata": {},
   "source": [
    "## Run"
   ]
  },
  {
   "cell_type": "markdown",
   "id": "07c0275a-374b-4fee-9ff3-faaa00ec4fc5",
   "metadata": {},
   "source": [
    "### Reset Database"
   ]
  },
  {
   "cell_type": "code",
   "execution_count": 16,
   "id": "00d45b0a-2a50-4f67-965f-72d89d55cb51",
   "metadata": {},
   "outputs": [
    {
     "name": "stdin",
     "output_type": "stream",
     "text": [
      "Reset Database? \n",
      "1 - Sim \n",
      "2 - Não \n",
      " 2\n"
     ]
    }
   ],
   "source": [
    "op = int(input(\"Reset Database? \\n1 - Sim \\n2 - Não \\n\"))\n",
    "if op == 1:\n",
    "    if os.path.exists('../Data/DB_Orders.db'):\n",
    "        close_db()\n",
    "        os.remove('../Data/DB_Orders.db')\n",
    "    csv_path = '../Data/final_test.csv'\n",
    "    data = csv_read_file(csv_path)[1:]\n",
    "    connection = sqlite3.connect('../Data/DB_Orders.db')\n",
    "    cursor = connection.cursor()\n",
    "    fundb_create_table()\n",
    "    fundb_insert_collection(data)"
   ]
  },
  {
   "cell_type": "code",
   "execution_count": null,
   "id": "c9ad65c6-60dd-42bb-80a4-219ae8a9faa4",
   "metadata": {},
   "outputs": [
    {
     "name": "stdout",
     "output_type": "stream",
     "text": [
      "\n",
      "=========== Menu ============\n",
      "\n",
      "0 - Sair\n",
      "1 - Mostrar pedidos\n",
      "2 - Inserir novo pedido\n",
      "3 - Atualizar um novo pedido\n",
      "4 - Apagar um pedido\n",
      "\n",
      "\n"
     ]
    },
    {
     "name": "stdin",
     "output_type": "stream",
     "text": [
      "Opção:   1\n"
     ]
    },
    {
     "name": "stdout",
     "output_type": "stream",
     "text": [
      "\n",
      "=========== Menu ============\n",
      "\n",
      "1 - Mostrar todos os pedidos\n",
      "2 - Pedido específico\n",
      "\n",
      "\n"
     ]
    },
    {
     "name": "stdin",
     "output_type": "stream",
     "text": [
      "Opção:   2\n",
      "Buscar por:  id\n",
      "Dado:  50\n"
     ]
    },
    {
     "name": "stdout",
     "output_type": "stream",
     "text": [
      "\n",
      "\n",
      "=============================\n",
      "ID: 50 \n",
      "Cliente: Mr Clement Fleisher\n",
      "Tipo do Pedido: design\n",
      "Data de Entrega: 28/02/2022\n",
      "Date de Registro: 23/01/2022\n",
      "\n",
      "\n",
      "\n",
      "=========== Menu ============\n",
      "\n",
      "0 - Sair\n",
      "1 - Mostrar pedidos\n",
      "2 - Inserir novo pedido\n",
      "3 - Atualizar um novo pedido\n",
      "4 - Apagar um pedido\n",
      "\n",
      "\n"
     ]
    },
    {
     "name": "stdin",
     "output_type": "stream",
     "text": [
      "Opção:   2\n"
     ]
    },
    {
     "name": "stdout",
     "output_type": "stream",
     "text": [
      "\n",
      "=========== Menu ============\n",
      "\n",
      "1 - Inserir: \n",
      "\n"
     ]
    },
    {
     "name": "stdin",
     "output_type": "stream",
     "text": [
      "Cliente:  Mr Lucas Gleysson\n",
      "Tipo do pedido:  design\n",
      "Data de entrega:  10/02/2022\n"
     ]
    },
    {
     "name": "stdout",
     "output_type": "stream",
     "text": [
      "\n",
      "=========== Menu ============\n",
      "\n",
      "0 - Sair\n",
      "1 - Mostrar pedidos\n",
      "2 - Inserir novo pedido\n",
      "3 - Atualizar um novo pedido\n",
      "4 - Apagar um pedido\n",
      "\n",
      "\n"
     ]
    },
    {
     "name": "stdin",
     "output_type": "stream",
     "text": [
      "Opção:   1\n"
     ]
    },
    {
     "name": "stdout",
     "output_type": "stream",
     "text": [
      "\n",
      "=========== Menu ============\n",
      "\n",
      "1 - Mostrar todos os pedidos\n",
      "2 - Pedido específico\n",
      "\n",
      "\n"
     ]
    },
    {
     "name": "stdin",
     "output_type": "stream",
     "text": [
      "Opção:   2\n",
      "Buscar por:  client\n",
      "Dado:  Mr Lucas Gleysson\n"
     ]
    },
    {
     "name": "stdout",
     "output_type": "stream",
     "text": [
      "\n",
      "\n",
      "=============================\n",
      "ID: 51 \n",
      "Cliente: Mr Lucas Gleysson\n",
      "Tipo do Pedido: design\n",
      "Data de Entrega: 10/02/2022\n",
      "Date de Registro: 04/02/2022\n",
      "\n",
      "\n",
      "\n",
      "=========== Menu ============\n",
      "\n",
      "0 - Sair\n",
      "1 - Mostrar pedidos\n",
      "2 - Inserir novo pedido\n",
      "3 - Atualizar um novo pedido\n",
      "4 - Apagar um pedido\n",
      "\n",
      "\n"
     ]
    },
    {
     "name": "stdin",
     "output_type": "stream",
     "text": [
      "Opção:   3\n"
     ]
    },
    {
     "name": "stdout",
     "output_type": "stream",
     "text": [
      "\n",
      "=========== Menu ============\n",
      "\n",
      "1 - Inserir: \n",
      "\n"
     ]
    },
    {
     "name": "stdin",
     "output_type": "stream",
     "text": [
      "ID de quem quer atualizar:  50\n",
      "Campo a ser mudado:  date_delivery\n",
      "Atualização:  12/02/2022\n"
     ]
    },
    {
     "name": "stdout",
     "output_type": "stream",
     "text": [
      "\n",
      "=========== Menu ============\n",
      "\n",
      "0 - Sair\n",
      "1 - Mostrar pedidos\n",
      "2 - Inserir novo pedido\n",
      "3 - Atualizar um novo pedido\n",
      "4 - Apagar um pedido\n",
      "\n",
      "\n"
     ]
    },
    {
     "name": "stdin",
     "output_type": "stream",
     "text": [
      "Opção:   1\n"
     ]
    },
    {
     "name": "stdout",
     "output_type": "stream",
     "text": [
      "\n",
      "=========== Menu ============\n",
      "\n",
      "1 - Mostrar todos os pedidos\n",
      "2 - Pedido específico\n",
      "\n",
      "\n"
     ]
    },
    {
     "name": "stdin",
     "output_type": "stream",
     "text": [
      "Opção:   2\n",
      "Buscar por:  id\n",
      "Dado:  50\n"
     ]
    },
    {
     "name": "stdout",
     "output_type": "stream",
     "text": [
      "\n",
      "\n",
      "=============================\n",
      "ID: 50 \n",
      "Cliente: Mr Clement Fleisher\n",
      "Tipo do Pedido: design\n",
      "Data de Entrega: 12/02/2022\n",
      "Date de Registro: 23/01/2022\n",
      "\n",
      "\n",
      "\n",
      "=========== Menu ============\n",
      "\n",
      "0 - Sair\n",
      "1 - Mostrar pedidos\n",
      "2 - Inserir novo pedido\n",
      "3 - Atualizar um novo pedido\n",
      "4 - Apagar um pedido\n",
      "\n",
      "\n"
     ]
    },
    {
     "name": "stdin",
     "output_type": "stream",
     "text": [
      "Opção:   4\n"
     ]
    },
    {
     "name": "stdout",
     "output_type": "stream",
     "text": [
      "\n",
      "=========== Menu ============\n",
      "\n",
      "1 - Inserir: \n",
      "\n"
     ]
    },
    {
     "name": "stdin",
     "output_type": "stream",
     "text": [
      "ID de quem quer atualizar:  50\n"
     ]
    },
    {
     "name": "stdout",
     "output_type": "stream",
     "text": [
      "\n",
      "=========== Menu ============\n",
      "\n",
      "0 - Sair\n",
      "1 - Mostrar pedidos\n",
      "2 - Inserir novo pedido\n",
      "3 - Atualizar um novo pedido\n",
      "4 - Apagar um pedido\n",
      "\n",
      "\n"
     ]
    },
    {
     "name": "stdin",
     "output_type": "stream",
     "text": [
      "Opção:   1\n"
     ]
    },
    {
     "name": "stdout",
     "output_type": "stream",
     "text": [
      "\n",
      "=========== Menu ============\n",
      "\n",
      "1 - Mostrar todos os pedidos\n",
      "2 - Pedido específico\n",
      "\n",
      "\n"
     ]
    },
    {
     "name": "stdin",
     "output_type": "stream",
     "text": [
      "Opção:   1\n"
     ]
    },
    {
     "name": "stdout",
     "output_type": "stream",
     "text": [
      "\n",
      "\n",
      "=============================\n",
      "ID: 1 \n",
      "Cliente: Mr Pratik Skaggs\n",
      "Tipo do Pedido: design\n",
      "Data de Entrega: 28/02/2022\n",
      "Date de Registro: 23/01/2022\n",
      "\n",
      "\n",
      "\n",
      "\n",
      "=============================\n",
      "ID: 2 \n",
      "Cliente: Mr Uehudah Hack\n",
      "Tipo do Pedido: logo\n",
      "Data de Entrega: 08/02/2022\n",
      "Date de Registro: 23/01/2022\n",
      "\n",
      "\n",
      "\n",
      "\n",
      "=============================\n",
      "ID: 3 \n",
      "Cliente: Mr Edison Drye\n",
      "Tipo do Pedido: personagem\n",
      "Data de Entrega: 16/02/2022\n",
      "Date de Registro: 01/02/2022\n",
      "\n",
      "\n",
      "\n",
      "\n",
      "=============================\n",
      "ID: 4 \n",
      "Cliente: Ms Mihoko Scholl\n",
      "Tipo do Pedido: paisagem\n",
      "Data de Entrega: 22/02/2022\n",
      "Date de Registro: 23/01/2022\n",
      "\n",
      "\n",
      "\n",
      "\n",
      "=============================\n",
      "ID: 5 \n",
      "Cliente: Mr Ajani Harding\n",
      "Tipo do Pedido: logo\n",
      "Data de Entrega: 12/02/2022\n",
      "Date de Registro: 01/02/2022\n",
      "\n",
      "\n",
      "\n",
      "\n",
      "=============================\n",
      "ID: 6 \n",
      "Cliente: Ms Ruthie Coco\n",
      "Tipo do Pedido: paisagem\n",
      "Data de Entrega: 22/02/2022\n",
      "Date de Registro: 23/01/2022\n",
      "\n",
      "\n",
      "\n",
      "\n",
      "=============================\n",
      "ID: 7 \n",
      "Cliente: Mr Orazio Hart\n",
      "Tipo do Pedido: personagem\n",
      "Data de Entrega: 08/02/2022\n",
      "Date de Registro: 05/02/2022\n",
      "\n",
      "\n",
      "\n",
      "\n",
      "=============================\n",
      "ID: 8 \n",
      "Cliente: Ms Vinaya Justus\n",
      "Tipo do Pedido: logo\n",
      "Data de Entrega: 08/02/2022\n",
      "Date de Registro: 01/02/2022\n",
      "\n",
      "\n",
      "\n",
      "\n",
      "=============================\n",
      "ID: 9 \n",
      "Cliente: Mr Tristan Karns\n",
      "Tipo do Pedido: paisagem\n",
      "Data de Entrega: 12/02/2022\n",
      "Date de Registro: 01/02/2022\n",
      "\n",
      "\n",
      "\n",
      "\n",
      "=============================\n",
      "ID: 10 \n",
      "Cliente: Ms Ardath Enriquez\n",
      "Tipo do Pedido: design\n",
      "Data de Entrega: 08/02/2022\n",
      "Date de Registro: 02/02/2022\n",
      "\n",
      "\n",
      "\n",
      "\n",
      "=============================\n",
      "ID: 11 \n",
      "Cliente: Ms Usagi Denny\n",
      "Tipo do Pedido: personagem\n",
      "Data de Entrega: 16/02/2022\n",
      "Date de Registro: 02/02/2022\n",
      "\n",
      "\n",
      "\n",
      "\n",
      "=============================\n",
      "ID: 12 \n",
      "Cliente: Ms Sevita Hershberger\n",
      "Tipo do Pedido: design\n",
      "Data de Entrega: 22/02/2022\n",
      "Date de Registro: 28/01/2022\n",
      "\n",
      "\n",
      "\n",
      "\n",
      "=============================\n",
      "ID: 13 \n",
      "Cliente: Ms Carnation Dingman\n",
      "Tipo do Pedido: caricatura\n",
      "Data de Entrega: 22/02/2022\n",
      "Date de Registro: 05/02/2022\n",
      "\n",
      "\n",
      "\n",
      "\n",
      "=============================\n",
      "ID: 14 \n",
      "Cliente: Mr Niven Glaser\n",
      "Tipo do Pedido: paisagem\n",
      "Data de Entrega: 28/02/2022\n",
      "Date de Registro: 23/01/2022\n",
      "\n",
      "\n",
      "\n",
      "\n",
      "=============================\n",
      "ID: 15 \n",
      "Cliente: Mr Derwyn Devers\n",
      "Tipo do Pedido: personagem\n",
      "Data de Entrega: 08/02/2022\n",
      "Date de Registro: 28/01/2022\n",
      "\n",
      "\n",
      "\n",
      "\n",
      "=============================\n",
      "ID: 16 \n",
      "Cliente: Ms Rossa Fanning\n",
      "Tipo do Pedido: paisagem\n",
      "Data de Entrega: 12/02/2022\n",
      "Date de Registro: 23/01/2022\n",
      "\n",
      "\n",
      "\n",
      "\n",
      "=============================\n",
      "ID: 17 \n",
      "Cliente: Mr Tod Phan\n",
      "Tipo do Pedido: design\n",
      "Data de Entrega: 08/02/2022\n",
      "Date de Registro: 23/01/2022\n",
      "\n",
      "\n",
      "\n",
      "\n",
      "=============================\n",
      "ID: 18 \n",
      "Cliente: Mr Eddie Hulse\n",
      "Tipo do Pedido: personagem\n",
      "Data de Entrega: 28/02/2022\n",
      "Date de Registro: 02/02/2022\n",
      "\n",
      "\n",
      "\n",
      "\n",
      "=============================\n",
      "ID: 19 \n",
      "Cliente: Mr Welford Yepez\n",
      "Tipo do Pedido: paisagem\n",
      "Data de Entrega: 16/02/2022\n",
      "Date de Registro: 23/01/2022\n",
      "\n",
      "\n",
      "\n",
      "\n",
      "=============================\n",
      "ID: 20 \n",
      "Cliente: Mr Rishley Snyder\n",
      "Tipo do Pedido: paisagem\n",
      "Data de Entrega: 28/02/2022\n",
      "Date de Registro: 05/02/2022\n",
      "\n",
      "\n",
      "\n",
      "\n",
      "=============================\n",
      "ID: 21 \n",
      "Cliente: Mr Milo Mccurdy\n",
      "Tipo do Pedido: paisagem\n",
      "Data de Entrega: 16/02/2022\n",
      "Date de Registro: 05/02/2022\n",
      "\n",
      "\n",
      "\n",
      "\n",
      "=============================\n",
      "ID: 22 \n",
      "Cliente: Ms Sammi Zepeda\n",
      "Tipo do Pedido: design\n",
      "Data de Entrega: 22/02/2022\n",
      "Date de Registro: 02/02/2022\n",
      "\n",
      "\n",
      "\n",
      "\n",
      "=============================\n",
      "ID: 23 \n",
      "Cliente: Ms Romaine Dingman\n",
      "Tipo do Pedido: paisagem\n",
      "Data de Entrega: 08/02/2022\n",
      "Date de Registro: 28/01/2022\n",
      "\n",
      "\n",
      "\n",
      "\n",
      "=============================\n",
      "ID: 24 \n",
      "Cliente: Ms Almeda Hack\n",
      "Tipo do Pedido: design\n",
      "Data de Entrega: 28/02/2022\n",
      "Date de Registro: 05/02/2022\n",
      "\n",
      "\n",
      "\n",
      "\n",
      "=============================\n",
      "ID: 25 \n",
      "Cliente: Ms Colette Hon\n",
      "Tipo do Pedido: paisagem\n",
      "Data de Entrega: 22/02/2022\n",
      "Date de Registro: 23/01/2022\n",
      "\n",
      "\n",
      "\n",
      "\n",
      "=============================\n",
      "ID: 26 \n",
      "Cliente: Mr Carden Justus\n",
      "Tipo do Pedido: caricatura\n",
      "Data de Entrega: 22/02/2022\n",
      "Date de Registro: 28/01/2022\n",
      "\n",
      "\n",
      "\n",
      "\n",
      "=============================\n",
      "ID: 27 \n",
      "Cliente: Mr Carlyon Gorby\n",
      "Tipo do Pedido: paisagem\n",
      "Data de Entrega: 22/02/2022\n",
      "Date de Registro: 23/01/2022\n",
      "\n",
      "\n",
      "\n",
      "\n",
      "=============================\n",
      "ID: 28 \n",
      "Cliente: Mr Mungo Spangler\n",
      "Tipo do Pedido: paisagem\n",
      "Data de Entrega: 08/02/2022\n",
      "Date de Registro: 01/02/2022\n",
      "\n",
      "\n",
      "\n",
      "\n",
      "=============================\n",
      "ID: 29 \n",
      "Cliente: Ms Berwyn Philip\n",
      "Tipo do Pedido: paisagem\n",
      "Data de Entrega: 16/02/2022\n",
      "Date de Registro: 01/02/2022\n",
      "\n",
      "\n",
      "\n",
      "\n",
      "=============================\n",
      "ID: 30 \n",
      "Cliente: Ms Helen Messinger\n",
      "Tipo do Pedido: personagem\n",
      "Data de Entrega: 22/02/2022\n",
      "Date de Registro: 28/01/2022\n",
      "\n",
      "\n",
      "\n",
      "\n",
      "=============================\n",
      "ID: 31 \n",
      "Cliente: Mr Whitmore Squires\n",
      "Tipo do Pedido: logo\n",
      "Data de Entrega: 16/02/2022\n",
      "Date de Registro: 02/02/2022\n",
      "\n",
      "\n",
      "\n",
      "\n",
      "=============================\n",
      "ID: 32 \n",
      "Cliente: Ms Sunita Poulos\n",
      "Tipo do Pedido: paisagem\n",
      "Data de Entrega: 22/02/2022\n",
      "Date de Registro: 05/02/2022\n",
      "\n",
      "\n",
      "\n",
      "\n",
      "=============================\n",
      "ID: 33 \n",
      "Cliente: Ms Sevita Poulos\n",
      "Tipo do Pedido: paisagem\n",
      "Data de Entrega: 28/02/2022\n",
      "Date de Registro: 01/02/2022\n",
      "\n",
      "\n",
      "\n",
      "\n",
      "=============================\n",
      "ID: 34 \n",
      "Cliente: Mr Pedrog Mccurdy\n",
      "Tipo do Pedido: design\n",
      "Data de Entrega: 22/02/2022\n",
      "Date de Registro: 02/02/2022\n",
      "\n",
      "\n",
      "\n",
      "\n",
      "=============================\n",
      "ID: 35 \n",
      "Cliente: Mr Ridgley Leo\n",
      "Tipo do Pedido: paisagem\n",
      "Data de Entrega: 08/02/2022\n",
      "Date de Registro: 05/02/2022\n",
      "\n",
      "\n",
      "\n",
      "\n",
      "=============================\n",
      "ID: 36 \n",
      "Cliente: Ms Scarlet Barnwell\n",
      "Tipo do Pedido: design\n",
      "Data de Entrega: 08/02/2022\n",
      "Date de Registro: 23/01/2022\n",
      "\n",
      "\n",
      "\n",
      "\n",
      "=============================\n",
      "ID: 37 \n",
      "Cliente: Mr Bolton Tarin\n",
      "Tipo do Pedido: personagem\n",
      "Data de Entrega: 22/02/2022\n",
      "Date de Registro: 23/01/2022\n",
      "\n",
      "\n",
      "\n",
      "\n",
      "=============================\n",
      "ID: 38 \n",
      "Cliente: Ms Sevati Zepeda\n",
      "Tipo do Pedido: paisagem\n",
      "Data de Entrega: 08/02/2022\n",
      "Date de Registro: 23/01/2022\n",
      "\n",
      "\n",
      "\n",
      "\n",
      "=============================\n",
      "ID: 39 \n",
      "Cliente: Mr Edison Loy\n",
      "Tipo do Pedido: caricatura\n",
      "Data de Entrega: 12/02/2022\n",
      "Date de Registro: 28/01/2022\n",
      "\n",
      "\n",
      "\n",
      "\n",
      "=============================\n",
      "ID: 40 \n",
      "Cliente: Ms Vivien Ledoux\n",
      "Tipo do Pedido: personagem\n",
      "Data de Entrega: 16/02/2022\n",
      "Date de Registro: 28/01/2022\n",
      "\n",
      "\n",
      "\n",
      "\n",
      "=============================\n",
      "ID: 41 \n",
      "Cliente: Mr Delling Herndon\n",
      "Tipo do Pedido: caricatura\n",
      "Data de Entrega: 28/02/2022\n",
      "Date de Registro: 05/02/2022\n",
      "\n",
      "\n",
      "\n",
      "\n",
      "=============================\n",
      "ID: 42 \n",
      "Cliente: Ms Dysis Fish\n",
      "Tipo do Pedido: personagem\n",
      "Data de Entrega: 22/02/2022\n",
      "Date de Registro: 05/02/2022\n",
      "\n",
      "\n",
      "\n",
      "\n",
      "=============================\n",
      "ID: 43 \n",
      "Cliente: Ms Sherry Fodor\n",
      "Tipo do Pedido: caricatura\n",
      "Data de Entrega: 28/02/2022\n",
      "Date de Registro: 23/01/2022\n",
      "\n",
      "\n",
      "\n",
      "\n",
      "=============================\n",
      "ID: 44 \n",
      "Cliente: Ms Delanna Bowser\n",
      "Tipo do Pedido: caricatura\n",
      "Data de Entrega: 16/02/2022\n",
      "Date de Registro: 28/01/2022\n",
      "\n",
      "\n",
      "\n",
      "\n",
      "=============================\n",
      "ID: 45 \n",
      "Cliente: Mr Senichi Iorio\n",
      "Tipo do Pedido: personagem\n",
      "Data de Entrega: 08/02/2022\n",
      "Date de Registro: 01/02/2022\n",
      "\n",
      "\n",
      "\n",
      "\n",
      "=============================\n",
      "ID: 46 \n",
      "Cliente: Ms Angela Denny\n",
      "Tipo do Pedido: paisagem\n",
      "Data de Entrega: 12/02/2022\n",
      "Date de Registro: 23/01/2022\n",
      "\n",
      "\n",
      "\n",
      "\n",
      "=============================\n",
      "ID: 47 \n",
      "Cliente: Mr Albin Kerner\n",
      "Tipo do Pedido: caricatura\n",
      "Data de Entrega: 28/02/2022\n",
      "Date de Registro: 23/01/2022\n",
      "\n",
      "\n",
      "\n",
      "\n",
      "=============================\n",
      "ID: 48 \n",
      "Cliente: Ms Janna Ying\n",
      "Tipo do Pedido: design\n",
      "Data de Entrega: 12/02/2022\n",
      "Date de Registro: 02/02/2022\n",
      "\n",
      "\n",
      "\n",
      "\n",
      "=============================\n",
      "ID: 49 \n",
      "Cliente: Mr Jivin Justus\n",
      "Tipo do Pedido: logo\n",
      "Data de Entrega: 28/02/2022\n",
      "Date de Registro: 23/01/2022\n",
      "\n",
      "\n",
      "\n",
      "\n",
      "=============================\n",
      "ID: 51 \n",
      "Cliente: Mr Lucas Gleysson\n",
      "Tipo do Pedido: design\n",
      "Data de Entrega: 10/02/2022\n",
      "Date de Registro: 04/02/2022\n",
      "\n",
      "\n",
      "\n",
      "=========== Menu ============\n",
      "\n",
      "0 - Sair\n",
      "1 - Mostrar pedidos\n",
      "2 - Inserir novo pedido\n",
      "3 - Atualizar um novo pedido\n",
      "4 - Apagar um pedido\n",
      "\n",
      "\n"
     ]
    }
   ],
   "source": [
    "print_display_and_option(display_menu)"
   ]
  },
  {
   "cell_type": "code",
   "execution_count": null,
   "id": "591f179d-d643-4959-b767-bbfbd6535adf",
   "metadata": {},
   "outputs": [],
   "source": []
  }
 ],
 "metadata": {
  "kernelspec": {
   "display_name": "Python 3",
   "language": "python",
   "name": "python3"
  },
  "language_info": {
   "codemirror_mode": {
    "name": "ipython",
    "version": 3
   },
   "file_extension": ".py",
   "mimetype": "text/x-python",
   "name": "python",
   "nbconvert_exporter": "python",
   "pygments_lexer": "ipython3",
   "version": "3.8.8"
  },
  "toc-autonumbering": false,
  "toc-showtags": false,
  "widgets": {
   "application/vnd.jupyter.widget-state+json": {
    "state": {},
    "version_major": 2,
    "version_minor": 0
   }
  }
 },
 "nbformat": 4,
 "nbformat_minor": 5
}
