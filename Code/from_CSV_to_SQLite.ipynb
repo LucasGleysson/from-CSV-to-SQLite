{
 "cells": [
  {
   "cell_type": "markdown",
   "id": "260af7b4-4c73-43d0-9547-610d30d2dcd2",
   "metadata": {},
   "source": [
    "# Manipulation"
   ]
  },
  {
   "cell_type": "markdown",
   "id": "7b3e3c54-7bc8-46bd-ad3a-bc486bbf2d64",
   "metadata": {},
   "source": [
    "## CSV"
   ]
  },
  {
   "cell_type": "markdown",
   "id": "e7f09d58-4647-40ae-aec9-56494c2abe13",
   "metadata": {},
   "source": [
    "### Imports"
   ]
  },
  {
   "cell_type": "code",
   "execution_count": 1,
   "id": "725f0928-c912-4f6a-a321-84b5fbab77b9",
   "metadata": {},
   "outputs": [],
   "source": [
    "import csv"
   ]
  },
  {
   "cell_type": "markdown",
   "id": "5e7a448b-92e3-41eb-9437-af4b331e2348",
   "metadata": {},
   "source": [
    "### Functions"
   ]
  },
  {
   "cell_type": "markdown",
   "id": "5bd90e3c-9b4e-4b16-b592-3ab67a6d3e93",
   "metadata": {},
   "source": [
    "#### Read"
   ]
  },
  {
   "cell_type": "code",
   "execution_count": 2,
   "id": "b714606b-527e-4290-8fc6-b8d877455324",
   "metadata": {},
   "outputs": [],
   "source": [
    "def csv_read_file(path):\n",
    "    ''' Lê o arquivo csv e retorna seus dados em uma lista '''\n",
    "    data_file = []\n",
    "    with open(path, 'r', encoding='utf-8') as file:\n",
    "        read = csv.reader(file)\n",
    "        for row in read:\n",
    "            data_file.append(row)\n",
    "    return data_file\n"
   ]
  },
  {
   "cell_type": "markdown",
   "id": "14591fd7-0b65-495e-9dd3-142c43c6bda1",
   "metadata": {},
   "source": [
    "#### Write"
   ]
  },
  {
   "cell_type": "code",
   "execution_count": 3,
   "id": "9ed2b95b-87cd-486a-b385-d513f803ff99",
   "metadata": {},
   "outputs": [],
   "source": [
    "def csv_write_file(path, collection):\n",
    "    ''' Escreve os dados de uma coleção no arquivo CSV linha a linha '''\n",
    "    with open(path, 'w', encoding='utf-8', newline='') as file:\n",
    "        write = csv.writer(file)\n",
    "        for row in collection:\n",
    "            write.writerow(row)\n",
    "    return 'File written with success!'"
   ]
  },
  {
   "cell_type": "markdown",
   "id": "4f031848-9af2-4de1-97be-9e7d8ad9adfc",
   "metadata": {},
   "source": [
    "#### Create file CSV"
   ]
  },
  {
   "cell_type": "markdown",
   "id": "d84feb0c-60ce-4a96-a167-6ec942cccf32",
   "metadata": {},
   "source": [
    "- Para testar as funções, criei uma arquivo CSV com alguns nomes aleatórios que peguei no site https://rogertakemiya.com.br/gerador-de-nomes-de-pessoas/ \"Lista com alguns dos nomes utilizados no Estados Unidos\"."
   ]
  },
  {
   "cell_type": "code",
   "execution_count": 4,
   "id": "e569e1ce-8b59-4c78-be67-387b2cd02a76",
   "metadata": {},
   "outputs": [
    {
     "data": {
      "text/plain": [
       "'File written with success!'"
      ]
     },
     "execution_count": 4,
     "metadata": {},
     "output_type": "execute_result"
    }
   ],
   "source": [
    "import random\n",
    "\n",
    "delivery = ['2022-02-12','2022-02-16','2022-02-08','2022-02-22','2022-02-28']\n",
    "register = ['2022-02-02','2022-02-05','2022-01-23','2022-02-01','2022-01-28']\n",
    "type_order = ['design','paisagem','logo','personagem','caricatura']\n",
    "\n",
    "data = csv_read_file(\"../Data/test_copy.csv\")\n",
    "for row in data[1:]:\n",
    "    row[1] = random.choice(type_order)\n",
    "    row.append(random.choice(delivery))\n",
    "    row.append(random.choice(register))\n",
    "csv_write_file('../Data/final_test.csv', data)"
   ]
  },
  {
   "cell_type": "markdown",
   "id": "725142de-ef72-4fc3-98cf-983f60baf152",
   "metadata": {},
   "source": [
    "- Como tinha apenas os nomes, decidi criar uma lista com 5 possibilidades de datas de entrega, datas de registro, e tipos de pedidos de artisticos para poder popular o CSV com o que iria precisar."
   ]
  },
  {
   "cell_type": "markdown",
   "id": "b9b9cd00-3cf9-470c-b1d6-e6581361f1a4",
   "metadata": {},
   "source": [
    "## SQLite3"
   ]
  },
  {
   "cell_type": "markdown",
   "id": "57c0fb9e-c2e7-4c27-b72a-e7ad2993806e",
   "metadata": {},
   "source": [
    "### Imports"
   ]
  },
  {
   "cell_type": "code",
   "execution_count": 5,
   "id": "68842409-2a21-416f-ad85-046163063a91",
   "metadata": {},
   "outputs": [],
   "source": [
    "import sqlite3\n",
    "import os"
   ]
  },
  {
   "cell_type": "code",
   "execution_count": null,
   "id": "fc979af3-440e-4890-a901-8b75fa117af4",
   "metadata": {},
   "outputs": [],
   "source": [
    "cursor.close()\n",
    "connection.close()"
   ]
  },
  {
   "cell_type": "code",
   "execution_count": null,
   "id": "a17c3148-2edc-4b9a-9dbe-85272ff48176",
   "metadata": {},
   "outputs": [],
   "source": [
    "os.remove('../Data/DB_Orders.db') if os.path.exists('../Data/DB_Orders.db') else None"
   ]
  },
  {
   "cell_type": "markdown",
   "id": "53b98c23-dbef-4fbd-afc6-9c2df5da8830",
   "metadata": {},
   "source": [
    "### Functions"
   ]
  },
  {
   "cell_type": "markdown",
   "id": "c05b6684-7635-4472-af85-48aadf625679",
   "metadata": {},
   "source": [
    "#### Create and connect Database"
   ]
  },
  {
   "cell_type": "code",
   "execution_count": 6,
   "id": "9c1dabf7-bb14-46f2-ba68-54344277a5a6",
   "metadata": {},
   "outputs": [],
   "source": [
    "connection = sqlite3.connect('../Data/DB_Orders.db')\n",
    "cursor = connection.cursor()"
   ]
  },
  {
   "cell_type": "markdown",
   "id": "1b379349-5c94-47cc-8a2c-cdf605870b8c",
   "metadata": {},
   "source": [
    "#### Create table"
   ]
  },
  {
   "cell_type": "code",
   "execution_count": 7,
   "id": "0c3b8fdf-d3e0-4c5b-a413-97250e5b739a",
   "metadata": {},
   "outputs": [],
   "source": [
    "sql_create = \"\"\"CREATE TABLE IF NOT EXISTS Orders \n",
    "(id INTEGER PRIMARY KEY AUTOINCREMENT, \n",
    "client TEXT, \n",
    "type_order TEXT, \n",
    "date_delivery TEXT, \n",
    "date_register TEXT NOT NULL)\"\"\"\n",
    "\n",
    "def fundb_create_table():\n",
    "    cursor.execute(sql_create)\n",
    "    connection.commit()"
   ]
  },
  {
   "cell_type": "markdown",
   "id": "97b0f8c8-58ac-45f8-abfa-940a8be99f41",
   "metadata": {},
   "source": [
    "#### Insert "
   ]
  },
  {
   "cell_type": "code",
   "execution_count": 8,
   "id": "dcb2048d-bd06-4a2e-beae-e3efadf0f10d",
   "metadata": {},
   "outputs": [],
   "source": [
    "sql_insert = \"\"\"INSERT INTO Orders (client, type_order, date_delivery, date_register) \n",
    "VALUES (?,?,?,?)\"\"\"\n",
    "\n",
    "def fundb_insert_collection(collection):\n",
    "    for row in collection:\n",
    "        cursor.execute(sql_insert, row)\n",
    "        connection.commit()\n",
    "\n",
    "def fundb_insert_one(client, type_order, date_delivery, date_register):\n",
    "    cursor.execute(sql_insert, (client, type_order, date_delivery, date_register))\n",
    "    connection.commit()"
   ]
  },
  {
   "cell_type": "markdown",
   "id": "d9727cc4-3f4c-46b0-8d42-0e00f6247c6a",
   "metadata": {},
   "source": [
    "#### Recover"
   ]
  },
  {
   "cell_type": "code",
   "execution_count": 9,
   "id": "87ba5063-b1ce-4a8e-9803-055184533b4f",
   "metadata": {},
   "outputs": [],
   "source": [
    "sql_select = \"\"\"SELECT * FROM Orders\"\"\"\n",
    "\n",
    "def fundb_recover_all():\n",
    "    cursor.execute(sql_select)\n",
    "    return cursor.fetchall()\n",
    "\n",
    "def fundb_recover_specific(colum, specification):\n",
    "    sql_where = sql_select + f\" WHERE {colum} = '{specification}'\"\n",
    "    cursor.execute(sql_where)\n",
    "    record = cursor.fetchall()\n",
    "    return record    \n",
    "\n",
    "def fundb_find_id(name_client):\n",
    "    records = fundb_recover_specific('client', name_client)\n",
    "    list_ids = []\n",
    "    for rec in records:\n",
    "        list_ids.append(rec[0])\n",
    "    if len(list_ids) == 1:\n",
    "        return list_ids[0]\n",
    "    else:\n",
    "        return list_ids"
   ]
  },
  {
   "cell_type": "markdown",
   "id": "c6527214-24a5-4c2f-8ac5-65da4500e055",
   "metadata": {},
   "source": [
    "- Ao inves de fazer uma função para cada campo da coluna, fiz uma função que recebe a coluna que será usada como filtro e resgata todos os valores relacionados ao valor especificado."
   ]
  },
  {
   "cell_type": "markdown",
   "id": "6923c9fe-6c39-4241-bf6a-54e380433358",
   "metadata": {},
   "source": [
    "#### Update"
   ]
  },
  {
   "cell_type": "code",
   "execution_count": 10,
   "id": "91021970-c9cb-4fdb-aead-4be0be2dcad1",
   "metadata": {},
   "outputs": [],
   "source": [
    "sql_update = \"UPDATE Orders SET \"\n",
    "\n",
    "def fundb_update_by_id(order_id, column, new_data):\n",
    "    sql_specific = sql_update + f\"{column} = '{new_data}' WHERE id = {order_id}\"\n",
    "    cursor.execute(sql_specific)\n",
    "    connection.commit()\n",
    "    return fundb_recover_specific('id', order_id)"
   ]
  },
  {
   "cell_type": "markdown",
   "id": "160fa627-a0c4-4f63-b68d-4a0808bfb823",
   "metadata": {},
   "source": [
    "#### Delete"
   ]
  },
  {
   "cell_type": "code",
   "execution_count": 11,
   "id": "a2d554c9-ecb0-46b7-aab6-a51dc53afb41",
   "metadata": {},
   "outputs": [],
   "source": [
    "\n",
    "def fundb_delete_by_id(order_id):\n",
    "    record = fundb_recover_specific('id', order_id)\n",
    "    sql_delete = f\"DELETE FROM Orders WHERE id = {order_id}\"\n",
    "    cursor.execute(sql_delete)\n",
    "    connection.commit()\n",
    "    return f'{record} deleted'"
   ]
  },
  {
   "cell_type": "markdown",
   "id": "f2844ec2-c8aa-4466-985c-530f17afbda0",
   "metadata": {},
   "source": [
    "# Tests"
   ]
  },
  {
   "cell_type": "markdown",
   "id": "3a60599f-ea5e-4b7b-aada-dc0a18ae876c",
   "metadata": {},
   "source": [
    "## CSV"
   ]
  },
  {
   "cell_type": "code",
   "execution_count": 12,
   "id": "2786b029-63d9-4652-9518-a315173d94af",
   "metadata": {},
   "outputs": [],
   "source": [
    "csv_path = '../Data/final_test.csv'"
   ]
  },
  {
   "cell_type": "code",
   "execution_count": 13,
   "id": "098be9a9-4c60-4fb8-9dac-4b0826bc83cc",
   "metadata": {},
   "outputs": [],
   "source": [
    "data = csv_read_file(csv_path)[1:]"
   ]
  },
  {
   "cell_type": "markdown",
   "id": "5760919b-9564-4245-8138-5e0738c33dc5",
   "metadata": {},
   "source": [
    "## SQLite3"
   ]
  },
  {
   "cell_type": "code",
   "execution_count": 14,
   "id": "3a95f74d-228e-4293-aef1-784641acff28",
   "metadata": {},
   "outputs": [],
   "source": [
    "fundb_create_table()"
   ]
  },
  {
   "cell_type": "code",
   "execution_count": 15,
   "id": "cde84095-2583-49ae-90e8-381c735899ee",
   "metadata": {},
   "outputs": [],
   "source": [
    "fundb_insert_collection(data)"
   ]
  },
  {
   "cell_type": "code",
   "execution_count": 16,
   "id": "8acfc926-d5eb-4189-9c3d-b7c1805b59ea",
   "metadata": {},
   "outputs": [],
   "source": [
    "fundb_insert_one('Mr Lucas Gleysson', type_order[1],delivery[1],register[1])"
   ]
  },
  {
   "cell_type": "code",
   "execution_count": 17,
   "id": "2e217722-c229-45db-8c2f-7c5ce384d5cc",
   "metadata": {
    "tags": []
   },
   "outputs": [
    {
     "data": {
      "text/plain": [
       "[(1, 'Mr Pratik Skaggs', 'paisagem', '2022-02-16', '2022-01-28'),\n",
       " (2, 'Mr Uehudah Hack', 'logo', '2022-02-16', '2022-02-02'),\n",
       " (3, 'Mr Edison Drye', 'paisagem', '2022-02-16', '2022-02-01'),\n",
       " (4, 'Ms Mihoko Scholl', 'paisagem', '2022-02-22', '2022-01-23'),\n",
       " (5, 'Mr Ajani Harding', 'design', '2022-02-12', '2022-02-05'),\n",
       " (6, 'Ms Ruthie Coco', 'personagem', '2022-02-28', '2022-02-02'),\n",
       " (7, 'Mr Orazio Hart', 'caricatura', '2022-02-22', '2022-02-02'),\n",
       " (8, 'Ms Vinaya Justus', 'logo', '2022-02-22', '2022-02-02'),\n",
       " (9, 'Mr Tristan Karns', 'caricatura', '2022-02-22', '2022-02-01'),\n",
       " (10, 'Ms Ardath Enriquez', 'caricatura', '2022-02-16', '2022-02-05'),\n",
       " (11, 'Ms Usagi Denny', 'paisagem', '2022-02-16', '2022-01-28'),\n",
       " (12, 'Ms Sevita Hershberger', 'paisagem', '2022-02-08', '2022-01-28'),\n",
       " (13, 'Ms Carnation Dingman', 'logo', '2022-02-12', '2022-02-02'),\n",
       " (14, 'Mr Niven Glaser', 'logo', '2022-02-16', '2022-02-05'),\n",
       " (15, 'Mr Derwyn Devers', 'paisagem', '2022-02-12', '2022-01-28'),\n",
       " (16, 'Ms Rossa Fanning', 'paisagem', '2022-02-16', '2022-01-23'),\n",
       " (17, 'Mr Tod Phan', 'personagem', '2022-02-12', '2022-01-23'),\n",
       " (18, 'Mr Eddie Hulse', 'caricatura', '2022-02-08', '2022-02-02'),\n",
       " (19, 'Mr Welford Yepez', 'paisagem', '2022-02-28', '2022-01-28'),\n",
       " (20, 'Mr Rishley Snyder', 'caricatura', '2022-02-22', '2022-01-23'),\n",
       " (21, 'Mr Milo Mccurdy', 'personagem', '2022-02-16', '2022-01-23'),\n",
       " (22, 'Ms Sammi Zepeda', 'personagem', '2022-02-28', '2022-01-23'),\n",
       " (23, 'Ms Romaine Dingman', 'paisagem', '2022-02-22', '2022-01-28'),\n",
       " (24, 'Ms Almeda Hack', 'personagem', '2022-02-28', '2022-02-02'),\n",
       " (25, 'Ms Colette Hon', 'design', '2022-02-22', '2022-02-02'),\n",
       " (26, 'Mr Carden Justus', 'logo', '2022-02-22', '2022-02-01'),\n",
       " (27, 'Mr Carlyon Gorby', 'caricatura', '2022-02-16', '2022-02-05'),\n",
       " (28, 'Mr Mungo Spangler', 'paisagem', '2022-02-28', '2022-02-05'),\n",
       " (29, 'Ms Berwyn Philip', 'caricatura', '2022-02-22', '2022-02-05'),\n",
       " (30, 'Ms Helen Messinger', 'personagem', '2022-02-28', '2022-02-05'),\n",
       " (31, 'Mr Whitmore Squires', 'logo', '2022-02-22', '2022-02-02'),\n",
       " (32, 'Ms Sunita Poulos', 'paisagem', '2022-02-28', '2022-01-23'),\n",
       " (33, 'Ms Sevita Poulos', 'design', '2022-02-12', '2022-02-02'),\n",
       " (34, 'Mr Pedrog Mccurdy', 'design', '2022-02-28', '2022-01-28'),\n",
       " (35, 'Mr Ridgley Leo', 'personagem', '2022-02-12', '2022-02-05'),\n",
       " (36, 'Ms Scarlet Barnwell', 'logo', '2022-02-12', '2022-01-28'),\n",
       " (37, 'Mr Bolton Tarin', 'design', '2022-02-12', '2022-02-05'),\n",
       " (38, 'Ms Sevati Zepeda', 'design', '2022-02-16', '2022-02-05'),\n",
       " (39, 'Mr Edison Loy', 'personagem', '2022-02-08', '2022-02-01'),\n",
       " (40, 'Ms Vivien Ledoux', 'paisagem', '2022-02-22', '2022-02-02'),\n",
       " (41, 'Mr Delling Herndon', 'design', '2022-02-22', '2022-01-23'),\n",
       " (42, 'Ms Dysis Fish', 'paisagem', '2022-02-16', '2022-01-28'),\n",
       " (43, 'Ms Sherry Fodor', 'personagem', '2022-02-28', '2022-02-01'),\n",
       " (44, 'Ms Delanna Bowser', 'design', '2022-02-16', '2022-02-02'),\n",
       " (45, 'Mr Senichi Iorio', 'design', '2022-02-12', '2022-02-02'),\n",
       " (46, 'Ms Angela Denny', 'personagem', '2022-02-28', '2022-02-05'),\n",
       " (47, 'Mr Albin Kerner', 'logo', '2022-02-16', '2022-01-23'),\n",
       " (48, 'Ms Janna Ying', 'design', '2022-02-12', '2022-01-28'),\n",
       " (49, 'Mr Jivin Justus', 'design', '2022-02-12', '2022-01-23'),\n",
       " (50, 'Mr Clement Fleisher', 'caricatura', '2022-02-16', '2022-01-23'),\n",
       " (51, 'Mr Lucas Gleysson', 'paisagem', '2022-02-16', '2022-02-05')]"
      ]
     },
     "execution_count": 17,
     "metadata": {},
     "output_type": "execute_result"
    }
   ],
   "source": [
    "fundb_recover_all()"
   ]
  },
  {
   "cell_type": "code",
   "execution_count": 18,
   "id": "069099a0-05fe-4403-a9d0-6d84ae8332e5",
   "metadata": {},
   "outputs": [
    {
     "data": {
      "text/plain": [
       "[(51, 'Mr Lucas Gleysson', 'paisagem', '2022-02-16', '2022-02-05')]"
      ]
     },
     "execution_count": 18,
     "metadata": {},
     "output_type": "execute_result"
    }
   ],
   "source": [
    "fundb_recover_specific('client', 'Mr Lucas Gleysson')"
   ]
  },
  {
   "cell_type": "code",
   "execution_count": 19,
   "id": "87e8fa41-e803-40e0-a2dc-c230f410a0b0",
   "metadata": {},
   "outputs": [
    {
     "data": {
      "text/plain": [
       "[(29, 'Ms Berwyn Philip', 'caricatura', '2022-02-22', '2022-02-05')]"
      ]
     },
     "execution_count": 19,
     "metadata": {},
     "output_type": "execute_result"
    }
   ],
   "source": [
    "fundb_recover_specific('id', 29)"
   ]
  },
  {
   "cell_type": "code",
   "execution_count": 20,
   "id": "aa4ae796-549c-4b55-ac0f-7d0b66f08f0d",
   "metadata": {},
   "outputs": [
    {
     "data": {
      "text/plain": [
       "51"
      ]
     },
     "execution_count": 20,
     "metadata": {},
     "output_type": "execute_result"
    }
   ],
   "source": [
    "fundb_find_id('Mr Lucas Gleysson')"
   ]
  },
  {
   "cell_type": "code",
   "execution_count": 23,
   "id": "1fa6bae3-789a-49f2-a724-df7e53f671f4",
   "metadata": {},
   "outputs": [
    {
     "data": {
      "text/plain": [
       "[(51, 'Mr Lucas Gleysson', 'paisagem', '2022-02-18', '2022-02-05')]"
      ]
     },
     "execution_count": 23,
     "metadata": {},
     "output_type": "execute_result"
    }
   ],
   "source": [
    "fundb_update_by_id(51, 'date_delivery', '2022-02-18')"
   ]
  },
  {
   "cell_type": "code",
   "execution_count": 22,
   "id": "02ef2303-605a-4e2a-9a31-fdf111ae03ea",
   "metadata": {},
   "outputs": [
    {
     "data": {
      "text/plain": [
       "[(29, 'Ms Berwyn Philip', 'design', '2022-02-22', '2022-02-05')]"
      ]
     },
     "execution_count": 22,
     "metadata": {},
     "output_type": "execute_result"
    }
   ],
   "source": [
    "fundb_update_by_id(29, 'type_order', 'design')"
   ]
  },
  {
   "cell_type": "code",
   "execution_count": 24,
   "id": "5fe3c043-b581-49e5-b616-4ed2ee62b6da",
   "metadata": {},
   "outputs": [
    {
     "data": {
      "text/plain": [
       "\"[(50, 'Mr Clement Fleisher', 'caricatura', '2022-02-16', '2022-01-23')] deleted\""
      ]
     },
     "execution_count": 24,
     "metadata": {},
     "output_type": "execute_result"
    }
   ],
   "source": [
    "fundb_delete_by_id(50)"
   ]
  },
  {
   "cell_type": "markdown",
   "id": "d5a56b0e-da66-4abf-8f84-f2c41a5b25ff",
   "metadata": {},
   "source": [
    "# Runing"
   ]
  },
  {
   "cell_type": "code",
   "execution_count": null,
   "id": "c9ad65c6-60dd-42bb-80a4-219ae8a9faa4",
   "metadata": {},
   "outputs": [],
   "source": []
  }
 ],
 "metadata": {
  "kernelspec": {
   "display_name": "Python 3",
   "language": "python",
   "name": "python3"
  },
  "language_info": {
   "codemirror_mode": {
    "name": "ipython",
    "version": 3
   },
   "file_extension": ".py",
   "mimetype": "text/x-python",
   "name": "python",
   "nbconvert_exporter": "python",
   "pygments_lexer": "ipython3",
   "version": "3.8.8"
  },
  "toc-autonumbering": false,
  "toc-showtags": false,
  "widgets": {
   "application/vnd.jupyter.widget-state+json": {
    "state": {},
    "version_major": 2,
    "version_minor": 0
   }
  }
 },
 "nbformat": 4,
 "nbformat_minor": 5
}
