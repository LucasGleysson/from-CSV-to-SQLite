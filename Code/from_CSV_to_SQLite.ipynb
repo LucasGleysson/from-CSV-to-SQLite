{
 "cells": [
  {
   "cell_type": "markdown",
   "id": "260af7b4-4c73-43d0-9547-610d30d2dcd2",
   "metadata": {},
   "source": [
    "# Manipulation"
   ]
  },
  {
   "cell_type": "markdown",
   "id": "7b3e3c54-7bc8-46bd-ad3a-bc486bbf2d64",
   "metadata": {},
   "source": [
    "## CSV"
   ]
  },
  {
   "cell_type": "markdown",
   "id": "e7f09d58-4647-40ae-aec9-56494c2abe13",
   "metadata": {},
   "source": [
    "### Imports"
   ]
  },
  {
   "cell_type": "code",
   "execution_count": null,
   "id": "725f0928-c912-4f6a-a321-84b5fbab77b9",
   "metadata": {},
   "outputs": [],
   "source": [
    "import csv"
   ]
  },
  {
   "cell_type": "markdown",
   "id": "5e7a448b-92e3-41eb-9437-af4b331e2348",
   "metadata": {},
   "source": [
    "### Functions"
   ]
  },
  {
   "cell_type": "markdown",
   "id": "5bd90e3c-9b4e-4b16-b592-3ab67a6d3e93",
   "metadata": {},
   "source": [
    "#### Read"
   ]
  },
  {
   "cell_type": "code",
   "execution_count": null,
   "id": "b714606b-527e-4290-8fc6-b8d877455324",
   "metadata": {},
   "outputs": [],
   "source": [
    "def csv_read_file(path):\n",
    "    ''' Lê o arquivo csv e retorna seus dados em uma lista '''\n",
    "    data_file = []\n",
    "    with open(path, 'r', encoding='utf-8') as file:\n",
    "        read = csv.reader(file)\n",
    "        for row in read:\n",
    "            data_file.append(row)\n",
    "    return data_file\n"
   ]
  },
  {
   "cell_type": "markdown",
   "id": "14591fd7-0b65-495e-9dd3-142c43c6bda1",
   "metadata": {},
   "source": [
    "#### Write"
   ]
  },
  {
   "cell_type": "code",
   "execution_count": null,
   "id": "9ed2b95b-87cd-486a-b385-d513f803ff99",
   "metadata": {},
   "outputs": [],
   "source": [
    "def csv_write_file(path, collection):\n",
    "    ''' Escreve os dados de uma coleção no arquivo CSV linha a linha '''\n",
    "    with open(path, 'w', encoding='utf-8', newline='') as file:\n",
    "        write = csv.writer(file)\n",
    "        for row in collection:\n",
    "            write.writerow(row)\n",
    "    return 'File written with success!'"
   ]
  },
  {
   "cell_type": "markdown",
   "id": "4f031848-9af2-4de1-97be-9e7d8ad9adfc",
   "metadata": {},
   "source": [
    "#### Create file CSV"
   ]
  },
  {
   "cell_type": "markdown",
   "id": "d84feb0c-60ce-4a96-a167-6ec942cccf32",
   "metadata": {},
   "source": [
    "- Para testar as funções, criei uma arquivo CSV com alguns nomes aleatórios que peguei no site https://rogertakemiya.com.br/gerador-de-nomes-de-pessoas/ \"Lista com alguns dos nomes utilizados no Estados Unidos\"."
   ]
  },
  {
   "cell_type": "markdown",
   "id": "725142de-ef72-4fc3-98cf-983f60baf152",
   "metadata": {},
   "source": [
    "- O arquivo CSV já tinha dois campos onde estavam os nomes e o outro  estava vazio. Então eu adicionei um cabeçalho manualmente, criando os campos que iria utitilizar e para não ter que preencher os 50 registros um por um, fiz um programa que iria preencher os campos com 5 possibilidades escolhidas aleatóriamente de seu respectivo campo."
   ]
  },
  {
   "cell_type": "code",
   "execution_count": null,
   "id": "e569e1ce-8b59-4c78-be67-387b2cd02a76",
   "metadata": {},
   "outputs": [],
   "source": [
    "import random\n",
    "\n",
    "delivery = ['2022-02-12','2022-02-16','2022-02-08','2022-02-22','2022-02-28']\n",
    "register = ['2022-02-02','2022-02-05','2022-01-23','2022-02-01','2022-01-28']\n",
    "type_order = ['design','paisagem','logo','personagem','caricatura']\n",
    "\n",
    "data = csv_read_file(\"../Data/test_copy.csv\")\n",
    "for row in data[1:]:\n",
    "    row[1] = random.choice(type_order)\n",
    "    row.append(random.choice(delivery))\n",
    "    row.append(random.choice(register))\n",
    "csv_write_file('../Data/final_test.csv', data)"
   ]
  },
  {
   "cell_type": "markdown",
   "id": "b9b9cd00-3cf9-470c-b1d6-e6581361f1a4",
   "metadata": {},
   "source": [
    "## SQLite3"
   ]
  },
  {
   "cell_type": "markdown",
   "id": "57c0fb9e-c2e7-4c27-b72a-e7ad2993806e",
   "metadata": {},
   "source": [
    "### Imports"
   ]
  },
  {
   "cell_type": "code",
   "execution_count": null,
   "id": "68842409-2a21-416f-ad85-046163063a91",
   "metadata": {},
   "outputs": [],
   "source": [
    "import sqlite3\n",
    "import os\n",
    "from datetime import datetime"
   ]
  },
  {
   "cell_type": "markdown",
   "id": "53b98c23-dbef-4fbd-afc6-9c2df5da8830",
   "metadata": {},
   "source": [
    "### Functions"
   ]
  },
  {
   "cell_type": "markdown",
   "id": "60937029-04d2-446e-a279-747837504c74",
   "metadata": {},
   "source": [
    "#### Dates"
   ]
  },
  {
   "cell_type": "markdown",
   "id": "f18fa49c-150f-4354-9a17-a6f954e532d5",
   "metadata": {},
   "source": [
    "- A Data de registro usa a data do dia do registro, mas o SQLite3 não tem um tipo especifico para guardar datas, então se usa o tipo TEXT.\n",
    "- Como boa pratica, as datas no banco de dados são guardados no formato AAAA-mm-dd, por causa do criterio de ordenação que existe no banco de dados. Assim as datas podem ser ordenadas pelo \"ano\", \"mes\" e então \"dias\", o que deixa tudo mais organizado"
   ]
  },
  {
   "cell_type": "code",
   "execution_count": null,
   "id": "6d37c2d4-4cf1-4ad0-8a02-e711f5406004",
   "metadata": {},
   "outputs": [],
   "source": [
    "def date_now():\n",
    "    \"\"\" Captura a data  do dia atual e a retorna \n",
    "        como string no formato AAAA-mm-dd \"\"\"\n",
    "    date_now = datetime.today().strftime('%Y-%m-%d')\n",
    "    return str(date_now)\n",
    "\n",
    "def date_to_display(date):\n",
    "    \"\"\" Converte o formato de uma data em string\n",
    "        de AAAA-mm-dd para dd/mm/AAAA \"\"\"\n",
    "    date = date.split('-')[::-1]\n",
    "    date = '/'.join(date)\n",
    "    return date\n",
    "\n",
    "def date_to_sqlite(date):\n",
    "    \"\"\" Converte o formato de uma data em string\n",
    "        de dd/mm/AAAA para AAAA-mm-dd\"\"\"\n",
    "    date = date.split('/')[::-1]\n",
    "    date = '-'.join(date)\n",
    "    return date\n",
    "    "
   ]
  },
  {
   "cell_type": "markdown",
   "id": "c05b6684-7635-4472-af85-48aadf625679",
   "metadata": {},
   "source": [
    "#### Create and connect Database"
   ]
  },
  {
   "cell_type": "code",
   "execution_count": null,
   "id": "9c1dabf7-bb14-46f2-ba68-54344277a5a6",
   "metadata": {},
   "outputs": [],
   "source": [
    "connection = sqlite3.connect('../Data/DB_Orders.db')\n",
    "cursor = connection.cursor()\n",
    "\n",
    "def close_db():\n",
    "    \"\"\" Fecha a conexão com o banco de dados e o cursor \"\"\"\n",
    "    cursor.close()\n",
    "    connection.close()"
   ]
  },
  {
   "cell_type": "markdown",
   "id": "1b379349-5c94-47cc-8a2c-cdf605870b8c",
   "metadata": {},
   "source": [
    "#### Create table"
   ]
  },
  {
   "cell_type": "code",
   "execution_count": null,
   "id": "0c3b8fdf-d3e0-4c5b-a413-97250e5b739a",
   "metadata": {},
   "outputs": [],
   "source": [
    "sql_create = \"\"\"CREATE TABLE IF NOT EXISTS Orders \n",
    "(id INTEGER PRIMARY KEY AUTOINCREMENT, \n",
    "client TEXT, \n",
    "type_order TEXT, \n",
    "date_delivery TEXT, \n",
    "date_register TEXT NOT NULL)\"\"\"\n",
    "\n",
    "def fundb_create_table():\n",
    "    \"\"\" Cria a tabela de pedidos, caso ela não exista \"\"\"\n",
    "    cursor.execute(sql_create)\n",
    "    connection.commit()"
   ]
  },
  {
   "cell_type": "markdown",
   "id": "188352c2-4b0e-47b4-9b4c-d4b4d781c4fe",
   "metadata": {},
   "source": [
    "- As strings de querys foram deixadas na parte de fora dos código para poderem ser reutilizadas sem ter que as escrever novamente, precisando apenas de algumas pequenas mudanças ou adições para seja lá o que for que a função irá consultar"
   ]
  },
  {
   "cell_type": "markdown",
   "id": "97b0f8c8-58ac-45f8-abfa-940a8be99f41",
   "metadata": {},
   "source": [
    "#### Insert "
   ]
  },
  {
   "cell_type": "code",
   "execution_count": null,
   "id": "dcb2048d-bd06-4a2e-beae-e3efadf0f10d",
   "metadata": {},
   "outputs": [],
   "source": [
    "sql_insert = \"\"\"INSERT INTO Orders (client, type_order, date_delivery, date_register) \n",
    "VALUES (?,?,?,?)\"\"\"\n",
    "\n",
    "def fundb_insert_collection(collection):\n",
    "    \"\"\" Recebe uma coleção de registros e adiciona todos de uma vez no banco de dados \"\"\"\n",
    "    for row in collection:\n",
    "        cursor.execute(sql_insert, row)\n",
    "        connection.commit()\n",
    "    \n",
    "def fundb_insert_one(client, type_order, date_delivery):\n",
    "    \"\"\" Recebe os dados para a criação de um registro e os adiciona no banco de dados, \n",
    "        já adicionando a data atual como a data de registro \"\"\"\n",
    "    date_register = date_to_sqlite(date_now())\n",
    "    cursor.execute(sql_insert, (client, type_order, date_delivery, date_register))\n",
    "    connection.commit()"
   ]
  },
  {
   "cell_type": "markdown",
   "id": "d9727cc4-3f4c-46b0-8d42-0e00f6247c6a",
   "metadata": {},
   "source": [
    "#### Recover"
   ]
  },
  {
   "cell_type": "code",
   "execution_count": null,
   "id": "87ba5063-b1ce-4a8e-9803-055184533b4f",
   "metadata": {},
   "outputs": [],
   "source": [
    "sql_select = \"\"\"SELECT * FROM Orders\"\"\"\n",
    "\n",
    "def fundb_recover_all():\n",
    "    \"\"\" Regata todos os registros existentes no banco de dados \n",
    "        os retornando em um iterável \"\"\"\n",
    "    cursor.execute(sql_select)\n",
    "    return cursor.fetchall()\n",
    "\n",
    "def fundb_recover_specific(colum, specification):\n",
    "    \"\"\" Regata um registro, buscado por uma coluna e valor especificos \"\"\"\n",
    "    sql_where = sql_select + f\" WHERE {colum} = '{specification}'\"\n",
    "    cursor.execute(sql_where)\n",
    "    record = cursor.fetchall()\n",
    "    return record    \n",
    "\n",
    "def fundb_find_id(name_client):\n",
    "    \"\"\" Busca o ID do cliente especificado, retornando o valor do ID.\n",
    "        Se o cliente tiver mais de um pedido, ele retorna o valor de \n",
    "        cada ID de pedido desse cliente em uma lista.\"\"\"\n",
    "    records = fundb_recover_specific('client', name_client)\n",
    "    list_ids = []\n",
    "    for rec in records:\n",
    "        list_ids.append(rec[0])\n",
    "    if len(list_ids) == 1:\n",
    "        return list_ids[0]\n",
    "    else:\n",
    "        return list_ids"
   ]
  },
  {
   "cell_type": "markdown",
   "id": "c6527214-24a5-4c2f-8ac5-65da4500e055",
   "metadata": {},
   "source": [
    "- Ao inves de fazer uma função para cada campo da coluna, fiz uma função que recebe a coluna que será usada como filtro e resgata todos os valores relacionados ao valor especificado."
   ]
  },
  {
   "cell_type": "markdown",
   "id": "6923c9fe-6c39-4241-bf6a-54e380433358",
   "metadata": {},
   "source": [
    "#### Update"
   ]
  },
  {
   "cell_type": "code",
   "execution_count": null,
   "id": "91021970-c9cb-4fdb-aead-4be0be2dcad1",
   "metadata": {},
   "outputs": [],
   "source": [
    "sql_update = \"UPDATE Orders SET \"\n",
    "\n",
    "def fundb_update_by_id(order_id, column, new_data):\n",
    "    \"\"\" Recebe o ID de qual registro pretende atualizar, a coluna onde quer\n",
    "        fazer a atualização e então o novo dado a ser introduzido \"\"\"\n",
    "    sql_where = sql_update + f\"{column} = '{new_data}' WHERE id = {order_id}\"\n",
    "    cursor.execute(sql_where)\n",
    "    connection.commit()\n",
    "    return f'Update OK!'"
   ]
  },
  {
   "cell_type": "markdown",
   "id": "160fa627-a0c4-4f63-b68d-4a0808bfb823",
   "metadata": {},
   "source": [
    "#### Delete"
   ]
  },
  {
   "cell_type": "code",
   "execution_count": null,
   "id": "a2d554c9-ecb0-46b7-aab6-a51dc53afb41",
   "metadata": {},
   "outputs": [],
   "source": [
    "sql_delete = f\"DELETE FROM Orders WHERE \"\n",
    "\n",
    "def fundb_delete_by_id(order_id):\n",
    "    \"\"\" Deleta o registro do ID especificado \"\"\"\n",
    "    sql_where = sql_delete + f\"id = {order_id}\"\n",
    "    cursor.execute(sql_delete)\n",
    "    connection.commit()\n",
    "    return f'Record deleted'"
   ]
  },
  {
   "cell_type": "markdown",
   "id": "d5a56b0e-da66-4abf-8f84-f2c41a5b25ff",
   "metadata": {},
   "source": [
    "# Runing"
   ]
  },
  {
   "cell_type": "markdown",
   "id": "3e0ac51e-c5ab-4622-b30d-5d808fd3551a",
   "metadata": {},
   "source": [
    "## Useful"
   ]
  },
  {
   "cell_type": "code",
   "execution_count": null,
   "id": "95d74ea1-b5fc-49db-9574-342d979c2ab0",
   "metadata": {},
   "outputs": [],
   "source": [
    "def split_rec(rec):\n",
    "    \"\"\" Divide cada parte do registro resgatado e passa como paramentro \n",
    "        para a função de impressão de registro \"\"\"\n",
    "    order_id = rec[0]\n",
    "    client = rec[1]\n",
    "    type_order = rec[2]\n",
    "    delivery = date_to_display(rec[3])\n",
    "    register = date_to_display(rec[4])\n",
    "    print_recover(order_id, type_order, client, delivery, register)\n",
    "\n",
    "def print_recover(order_id, type_order, client, delivery, register):\n",
    "    \"\"\" Imprime os registros de um jeito mais organizado \"\"\"\n",
    "    display = '\\n\\n=============================\\n'\\\n",
    "    f'ID: {order_id} \\n'\\\n",
    "    f'Cliente: {client}\\n'\\\n",
    "    f'Tipo do Pedido: {type_order}\\n'\\\n",
    "    f'Data de Entrega: {delivery}\\n'\\\n",
    "    f'Date de Registro: {register}\\n'\n",
    "    print(display)\n"
   ]
  },
  {
   "cell_type": "markdown",
   "id": "bd01136d-30c5-43c4-9826-3434315bf611",
   "metadata": {},
   "source": [
    "### Displays"
   ]
  },
  {
   "cell_type": "code",
   "execution_count": null,
   "id": "fce22844-9ca8-468f-b558-437acd548db3",
   "metadata": {},
   "outputs": [],
   "source": [
    "display_menu = \"\"\"\n",
    "=========== Menu ============\n",
    "\n",
    "0 - Sair\n",
    "1 - Mostrar pedidos\n",
    "2 - Inserir novo pedido\n",
    "3 - Atualizar um novo pedido\n",
    "4 - Apagar um pedido\n",
    "\n",
    "\"\"\"\n",
    "display_op1 = \"\"\"\n",
    "=========== Menu ============\n",
    "\n",
    "1 - Mostrar todos os pedidos\n",
    "2 - Pedido específico\n",
    "\n",
    "\"\"\"\n",
    "display_inserir = \"\"\"\n",
    "=========== Menu ============\n",
    "\n",
    "1 - Inserir: \n",
    "\"\"\"\n",
    "display_reset = \"\"\"\n",
    "=========== Menu ============\n",
    "\n",
    "1 - Deseja resetar o banco de dados? \n",
    "\"\"\""
   ]
  },
  {
   "cell_type": "markdown",
   "id": "9e90e6dc-67a7-4176-8ead-58b210bc40a9",
   "metadata": {},
   "source": [
    "### Options"
   ]
  },
  {
   "cell_type": "code",
   "execution_count": null,
   "id": "22bc3d49-5c0d-425a-9329-12e601256621",
   "metadata": {},
   "outputs": [],
   "source": [
    "def option_1():\n",
    "    print(display_op1)\n",
    "    option = int(input(\"Opção:  \"))\n",
    "    if option == 1:\n",
    "        for rec in fundb_recover_all():\n",
    "            split_rec(rec)\n",
    "    elif option == 2:\n",
    "        column = str(input(\"Buscar por: \"))\n",
    "        specific = str(input(\"Dado: \"))\n",
    "        if \"date\" in column:\n",
    "            specific = date_to_sqlite(specific)\n",
    "        for rec in fundb_recover_specific(column, specific):\n",
    "            split_rec(rec)\n",
    "\n",
    "def option_2():\n",
    "    print(display_inserir)\n",
    "    client = str(input(\"Cliente: \"))\n",
    "    type_order = str(input(\"Tipo do pedido: \"))\n",
    "    delivery = str(input(\"Data de entrega: \"))\n",
    "    register = date_now()\n",
    "    fundb_insert_one(client, type_order, delivery)\n",
    "\n",
    "def option_3():\n",
    "    print(display_inserir)\n",
    "    order_id = int(input(\"ID de quem quer atualizar: \"))\n",
    "    column = str(input(\"Campo a ser mudado: \"))\n",
    "    new_date = str(input(\"Atualização: \"))\n",
    "    if \"date\" in column:\n",
    "        date_to_sqlite(new_date)\n",
    "    fundb_update_by_id(order_id, column, new_date)\n",
    "\n",
    "def option_4():\n",
    "    print(display_inserir)\n",
    "    order_id = int(input(\"ID de quem quer atualizar: \"))\n",
    "    ok = fundb_delete_by_id(order_id)\n",
    "    return ok\n",
    "\n",
    "\n",
    "def print_display_and_option(display):\n",
    "    while True:\n",
    "        print(display)\n",
    "        option = int(input(\"Opção:  \"))\n",
    "        if option == 0:\n",
    "            break\n",
    "        elif option == 1:\n",
    "            option_1()\n",
    "            continue\n",
    "        elif option == 2:\n",
    "            option_2()\n",
    "            continue\n",
    "        elif option == 3:\n",
    "            option_3()\n",
    "            continue\n",
    "        elif option == 4:\n",
    "            option_4()\n",
    "            continue\n",
    "        elif option == 5:\n",
    "            option_5()\n",
    "        else:\n",
    "            print(\"Opção invalida\")\n",
    "            continue"
   ]
  },
  {
   "cell_type": "markdown",
   "id": "219de105-83db-4fb1-bffd-cea5797cb871",
   "metadata": {},
   "source": [
    "## Run"
   ]
  },
  {
   "cell_type": "markdown",
   "id": "07c0275a-374b-4fee-9ff3-faaa00ec4fc5",
   "metadata": {},
   "source": [
    "### Reset Database"
   ]
  },
  {
   "cell_type": "markdown",
   "id": "035af3a7-14f8-4d6c-9c34-7f9d2f4cc8bd",
   "metadata": {},
   "source": [
    "- O reset serve para apagar o banco de dados e o recriar do zero, com os mesmo nomes porém com novas datas de entrega, registros e tipos de pedido, mas isto é apenas uma opção, podendo ser pulada cado queria."
   ]
  },
  {
   "cell_type": "code",
   "execution_count": null,
   "id": "00d45b0a-2a50-4f67-965f-72d89d55cb51",
   "metadata": {},
   "outputs": [],
   "source": [
    "op = int(input(\"Reset Database? \\n1 - Sim \\n2 - Não \\n\"))\n",
    "if op == 1:\n",
    "    if os.path.exists('../Data/DB_Orders.db'):\n",
    "        close_db()\n",
    "        os.remove('../Data/DB_Orders.db')\n",
    "    csv_path = '../Data/final_test.csv'\n",
    "    data = csv_read_file(csv_path)[1:]\n",
    "    connection = sqlite3.connect('../Data/DB_Orders.db')\n",
    "    cursor = connection.cursor()\n",
    "    fundb_create_table()\n",
    "    fundb_insert_collection(data)"
   ]
  },
  {
   "cell_type": "markdown",
   "id": "a746996f-902f-47e9-af5c-64e2147e2968",
   "metadata": {},
   "source": [
    "### Start"
   ]
  },
  {
   "cell_type": "code",
   "execution_count": null,
   "id": "c9ad65c6-60dd-42bb-80a4-219ae8a9faa4",
   "metadata": {},
   "outputs": [],
   "source": [
    "print_display_and_option(display_menu)"
   ]
  }
 ],
 "metadata": {
  "kernelspec": {
   "display_name": "Python 3",
   "language": "python",
   "name": "python3"
  },
  "language_info": {
   "codemirror_mode": {
    "name": "ipython",
    "version": 3
   },
   "file_extension": ".py",
   "mimetype": "text/x-python",
   "name": "python",
   "nbconvert_exporter": "python",
   "pygments_lexer": "ipython3",
   "version": "3.8.8"
  },
  "toc-autonumbering": false,
  "toc-showtags": false,
  "widgets": {
   "application/vnd.jupyter.widget-state+json": {
    "state": {},
    "version_major": 2,
    "version_minor": 0
   }
  }
 },
 "nbformat": 4,
 "nbformat_minor": 5
}
