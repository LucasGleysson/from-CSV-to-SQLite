{
 "cells": [
  {
   "cell_type": "markdown",
   "id": "260af7b4-4c73-43d0-9547-610d30d2dcd2",
   "metadata": {},
   "source": [
    "# Manipulation"
   ]
  },
  {
   "cell_type": "markdown",
   "id": "7b3e3c54-7bc8-46bd-ad3a-bc486bbf2d64",
   "metadata": {},
   "source": [
    "## CSV"
   ]
  },
  {
   "cell_type": "markdown",
   "id": "e7f09d58-4647-40ae-aec9-56494c2abe13",
   "metadata": {},
   "source": [
    "### Imports"
   ]
  },
  {
   "cell_type": "code",
   "execution_count": 1,
   "id": "725f0928-c912-4f6a-a321-84b5fbab77b9",
   "metadata": {},
   "outputs": [],
   "source": [
    "import csv"
   ]
  },
  {
   "cell_type": "markdown",
   "id": "5e7a448b-92e3-41eb-9437-af4b331e2348",
   "metadata": {},
   "source": [
    "### Functions"
   ]
  },
  {
   "cell_type": "markdown",
   "id": "5bd90e3c-9b4e-4b16-b592-3ab67a6d3e93",
   "metadata": {},
   "source": [
    "#### Read"
   ]
  },
  {
   "cell_type": "code",
   "execution_count": 2,
   "id": "b714606b-527e-4290-8fc6-b8d877455324",
   "metadata": {},
   "outputs": [],
   "source": [
    "def csv_read_file(path):\n",
    "    ''' Lê o arquivo csv e retorna seus dados em uma lista '''\n",
    "    data_file = []\n",
    "    with open(path, 'r', encoding='utf-8') as file:\n",
    "        read = csv.reader(file)\n",
    "        for row in read:\n",
    "            data_file.append(row)\n",
    "    return data_file\n"
   ]
  },
  {
   "cell_type": "markdown",
   "id": "14591fd7-0b65-495e-9dd3-142c43c6bda1",
   "metadata": {},
   "source": [
    "#### Write"
   ]
  },
  {
   "cell_type": "code",
   "execution_count": 3,
   "id": "9ed2b95b-87cd-486a-b385-d513f803ff99",
   "metadata": {},
   "outputs": [],
   "source": [
    "def csv_write_file(path, collection):\n",
    "    ''' Escreve os dados de uma coleção no arquivo CSV linha a linha '''\n",
    "    with open(path, 'w', encoding='utf-8', newline='') as file:\n",
    "        write = csv.writer(file)\n",
    "        for row in collection:\n",
    "            write.writerow(row)\n",
    "    return 'File written with success!'"
   ]
  },
  {
   "cell_type": "markdown",
   "id": "4f031848-9af2-4de1-97be-9e7d8ad9adfc",
   "metadata": {},
   "source": [
    "#### Create file CSV"
   ]
  },
  {
   "cell_type": "markdown",
   "id": "d84feb0c-60ce-4a96-a167-6ec942cccf32",
   "metadata": {},
   "source": [
    "Para testar as funções, criei uma arquivo CSV com alguns nomes aleatórios que peguei no site https://rogertakemiya.com.br/gerador-de-nomes-de-pessoas/ \"Lista com alguns dos nomes utilizados no Estados Unidos\"."
   ]
  },
  {
   "cell_type": "code",
   "execution_count": 5,
   "id": "e569e1ce-8b59-4c78-be67-387b2cd02a76",
   "metadata": {},
   "outputs": [
    {
     "data": {
      "text/plain": [
       "'File written with success!'"
      ]
     },
     "execution_count": 5,
     "metadata": {},
     "output_type": "execute_result"
    }
   ],
   "source": [
    "import random\n",
    "\n",
    "delivery = ['2022-02-12','2022-02-16','2022-02-08','2022-02-22','2022-02-28']\n",
    "register = ['2022-02-02','2022-02-05','2022-01-23','2022-02-01','2022-01-28']\n",
    "type_order = ['design','paisagem','logo','personagem','caricatura']\n",
    "\n",
    "data = csv_read_file(\"Data/test_copy.csv\")\n",
    "for row in data[1:]:\n",
    "    row[1] = random.choice(type_order)\n",
    "    row.append(random.choice(delivery))\n",
    "    row.append(random.choice(register))\n",
    "csv_write_file('Data/final_test.csv', data)"
   ]
  },
  {
   "cell_type": "markdown",
   "id": "725142de-ef72-4fc3-98cf-983f60baf152",
   "metadata": {},
   "source": [
    "Como tinha apenas os nomes, decidi criar uma lista com 5 possibilidades de datas de entrega, datas de registro, e tipos de pedidos de artisticos para poder popular o CSV com o que iria precisar."
   ]
  },
  {
   "cell_type": "markdown",
   "id": "b9b9cd00-3cf9-470c-b1d6-e6581361f1a4",
   "metadata": {},
   "source": [
    "## SQLite3"
   ]
  },
  {
   "cell_type": "markdown",
   "id": "57c0fb9e-c2e7-4c27-b72a-e7ad2993806e",
   "metadata": {},
   "source": [
    "### Imports"
   ]
  },
  {
   "cell_type": "code",
   "execution_count": null,
   "id": "68842409-2a21-416f-ad85-046163063a91",
   "metadata": {},
   "outputs": [],
   "source": [
    "import sqlite3\n",
    "import os"
   ]
  },
  {
   "cell_type": "markdown",
   "id": "53b98c23-dbef-4fbd-afc6-9c2df5da8830",
   "metadata": {},
   "source": [
    "### Functions"
   ]
  },
  {
   "cell_type": "markdown",
   "id": "c05b6684-7635-4472-af85-48aadf625679",
   "metadata": {},
   "source": [
    "#### Create and connect Database"
   ]
  },
  {
   "cell_type": "code",
   "execution_count": null,
   "id": "9c1dabf7-bb14-46f2-ba68-54344277a5a6",
   "metadata": {},
   "outputs": [],
   "source": [
    "connection = sqlite3.connect('Data/DB_Orders.db')\n",
    "cursor = connection.cursor()"
   ]
  },
  {
   "cell_type": "markdown",
   "id": "1b379349-5c94-47cc-8a2c-cdf605870b8c",
   "metadata": {},
   "source": [
    "#### Create table"
   ]
  },
  {
   "cell_type": "code",
   "execution_count": null,
   "id": "0c3b8fdf-d3e0-4c5b-a413-97250e5b739a",
   "metadata": {},
   "outputs": [],
   "source": [
    "sql_create = f'CREATE TABLE IF NOT EXISTS Orders '\\\n",
    "'(id INTEGER PRIMARY KEY AUTOINCREMENT, '\\\n",
    "'client TEXT, '\\\n",
    "'type_order TEXT, '\\\n",
    "'date_delivery TEXT, '\\\n",
    "'date_register TEXT NOT NULL)'\n",
    "\n",
    "def fundb_create_table():\n",
    "    cursor.execute(sql_create)\n",
    "    connection.commit()"
   ]
  },
  {
   "cell_type": "markdown",
   "id": "97b0f8c8-58ac-45f8-abfa-940a8be99f41",
   "metadata": {},
   "source": [
    "#### Insert "
   ]
  },
  {
   "cell_type": "markdown",
   "id": "d9727cc4-3f4c-46b0-8d42-0e00f6247c6a",
   "metadata": {},
   "source": [
    "#### Recover"
   ]
  },
  {
   "cell_type": "markdown",
   "id": "6923c9fe-6c39-4241-bf6a-54e380433358",
   "metadata": {},
   "source": [
    "#### Update"
   ]
  },
  {
   "cell_type": "markdown",
   "id": "160fa627-a0c4-4f63-b68d-4a0808bfb823",
   "metadata": {},
   "source": [
    "#### Delete"
   ]
  },
  {
   "cell_type": "markdown",
   "id": "f2844ec2-c8aa-4466-985c-530f17afbda0",
   "metadata": {},
   "source": [
    "# Tests"
   ]
  },
  {
   "cell_type": "markdown",
   "id": "3a60599f-ea5e-4b7b-aada-dc0a18ae876c",
   "metadata": {},
   "source": [
    "## CSV"
   ]
  },
  {
   "cell_type": "markdown",
   "id": "5760919b-9564-4245-8138-5e0738c33dc5",
   "metadata": {},
   "source": [
    "## SQLite3"
   ]
  },
  {
   "cell_type": "code",
   "execution_count": null,
   "id": "fc979af3-440e-4890-a901-8b75fa117af4",
   "metadata": {},
   "outputs": [],
   "source": [
    "cursor.close()\n",
    "connection.close()"
   ]
  },
  {
   "cell_type": "code",
   "execution_count": null,
   "id": "a17c3148-2edc-4b9a-9dbe-85272ff48176",
   "metadata": {},
   "outputs": [],
   "source": [
    "os.remove('Data/DB_Orders.db') if os.path.exists('Data/DB_Orders.db') else None"
   ]
  },
  {
   "cell_type": "code",
   "execution_count": null,
   "id": "3a95f74d-228e-4293-aef1-784641acff28",
   "metadata": {},
   "outputs": [],
   "source": [
    "fundb_create_table()"
   ]
  },
  {
   "cell_type": "markdown",
   "id": "d5a56b0e-da66-4abf-8f84-f2c41a5b25ff",
   "metadata": {},
   "source": [
    "# Runing"
   ]
  },
  {
   "cell_type": "code",
   "execution_count": null,
   "id": "c9ad65c6-60dd-42bb-80a4-219ae8a9faa4",
   "metadata": {},
   "outputs": [],
   "source": []
  }
 ],
 "metadata": {
  "kernelspec": {
   "display_name": "Python 3",
   "language": "python",
   "name": "python3"
  },
  "language_info": {
   "codemirror_mode": {
    "name": "ipython",
    "version": 3
   },
   "file_extension": ".py",
   "mimetype": "text/x-python",
   "name": "python",
   "nbconvert_exporter": "python",
   "pygments_lexer": "ipython3",
   "version": "3.8.8"
  },
  "toc-autonumbering": false,
  "toc-showtags": false,
  "widgets": {
   "application/vnd.jupyter.widget-state+json": {
    "state": {},
    "version_major": 2,
    "version_minor": 0
   }
  }
 },
 "nbformat": 4,
 "nbformat_minor": 5
}
